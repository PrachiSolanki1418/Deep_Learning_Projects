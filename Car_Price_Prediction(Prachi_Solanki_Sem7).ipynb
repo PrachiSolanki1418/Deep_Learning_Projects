{
 "cells": [
  {
   "cell_type": "markdown",
   "id": "99b70222",
   "metadata": {},
   "source": [
    "# Name : Solanki Prachi Piyushbhai\n",
    "\n",
    "# Data Science (Sem-7)"
   ]
  },
  {
   "cell_type": "code",
   "execution_count": 1,
   "id": "06631146",
   "metadata": {},
   "outputs": [],
   "source": [
    "# Importing libraries\n",
    "import tensorflow as tf\n",
    "from tensorflow.keras.models import Sequential\n",
    "from tensorflow.keras.layers import Dense\n",
    "from tensorflow.keras.callbacks import EarlyStopping\n",
    "from sklearn.preprocessing import StandardScaler\n",
    "from sklearn.metrics import confusion_matrix\n",
    "import numpy as np\n",
    "import pandas as pd\n",
    "import seaborn as sns\n",
    "import matplotlib.pyplot as plt"
   ]
  },
  {
   "cell_type": "code",
   "execution_count": 2,
   "id": "1e31ba1a",
   "metadata": {},
   "outputs": [],
   "source": [
    "#Loading data\n",
    "data = pd.read_csv(\"car-data.csv\")"
   ]
  },
  {
   "cell_type": "code",
   "execution_count": 3,
   "id": "62fd4eb8",
   "metadata": {},
   "outputs": [
    {
     "data": {
      "text/html": [
       "<div>\n",
       "<style scoped>\n",
       "    .dataframe tbody tr th:only-of-type {\n",
       "        vertical-align: middle;\n",
       "    }\n",
       "\n",
       "    .dataframe tbody tr th {\n",
       "        vertical-align: top;\n",
       "    }\n",
       "\n",
       "    .dataframe thead th {\n",
       "        text-align: right;\n",
       "    }\n",
       "</style>\n",
       "<table border=\"1\" class=\"dataframe\">\n",
       "  <thead>\n",
       "    <tr style=\"text-align: right;\">\n",
       "      <th></th>\n",
       "      <th>Unnamed: 0</th>\n",
       "      <th>Name</th>\n",
       "      <th>Location</th>\n",
       "      <th>Year</th>\n",
       "      <th>Kilometers_Driven</th>\n",
       "      <th>Fuel_Type</th>\n",
       "      <th>Transmission</th>\n",
       "      <th>Owner_Type</th>\n",
       "      <th>Mileage</th>\n",
       "      <th>Engine</th>\n",
       "      <th>Power</th>\n",
       "      <th>Seats</th>\n",
       "      <th>New_Price</th>\n",
       "      <th>Price</th>\n",
       "    </tr>\n",
       "  </thead>\n",
       "  <tbody>\n",
       "    <tr>\n",
       "      <th>0</th>\n",
       "      <td>0</td>\n",
       "      <td>Maruti Wagon R LXI CNG</td>\n",
       "      <td>Mumbai</td>\n",
       "      <td>2010</td>\n",
       "      <td>72000</td>\n",
       "      <td>CNG</td>\n",
       "      <td>Manual</td>\n",
       "      <td>First</td>\n",
       "      <td>26.6 km/kg</td>\n",
       "      <td>998 CC</td>\n",
       "      <td>58.16 bhp</td>\n",
       "      <td>5.0</td>\n",
       "      <td>NaN</td>\n",
       "      <td>1.75</td>\n",
       "    </tr>\n",
       "    <tr>\n",
       "      <th>1</th>\n",
       "      <td>1</td>\n",
       "      <td>Hyundai Creta 1.6 CRDi SX Option</td>\n",
       "      <td>Pune</td>\n",
       "      <td>2015</td>\n",
       "      <td>41000</td>\n",
       "      <td>Diesel</td>\n",
       "      <td>Manual</td>\n",
       "      <td>First</td>\n",
       "      <td>19.67 kmpl</td>\n",
       "      <td>1582 CC</td>\n",
       "      <td>126.2 bhp</td>\n",
       "      <td>5.0</td>\n",
       "      <td>NaN</td>\n",
       "      <td>12.50</td>\n",
       "    </tr>\n",
       "    <tr>\n",
       "      <th>2</th>\n",
       "      <td>2</td>\n",
       "      <td>Honda Jazz V</td>\n",
       "      <td>Chennai</td>\n",
       "      <td>2011</td>\n",
       "      <td>46000</td>\n",
       "      <td>Petrol</td>\n",
       "      <td>Manual</td>\n",
       "      <td>First</td>\n",
       "      <td>18.2 kmpl</td>\n",
       "      <td>1199 CC</td>\n",
       "      <td>88.7 bhp</td>\n",
       "      <td>5.0</td>\n",
       "      <td>8.61 Lakh</td>\n",
       "      <td>4.50</td>\n",
       "    </tr>\n",
       "    <tr>\n",
       "      <th>3</th>\n",
       "      <td>3</td>\n",
       "      <td>Maruti Ertiga VDI</td>\n",
       "      <td>Chennai</td>\n",
       "      <td>2012</td>\n",
       "      <td>87000</td>\n",
       "      <td>Diesel</td>\n",
       "      <td>Manual</td>\n",
       "      <td>First</td>\n",
       "      <td>20.77 kmpl</td>\n",
       "      <td>1248 CC</td>\n",
       "      <td>88.76 bhp</td>\n",
       "      <td>7.0</td>\n",
       "      <td>NaN</td>\n",
       "      <td>6.00</td>\n",
       "    </tr>\n",
       "    <tr>\n",
       "      <th>4</th>\n",
       "      <td>4</td>\n",
       "      <td>Audi A4 New 2.0 TDI Multitronic</td>\n",
       "      <td>Coimbatore</td>\n",
       "      <td>2013</td>\n",
       "      <td>40670</td>\n",
       "      <td>Diesel</td>\n",
       "      <td>Automatic</td>\n",
       "      <td>Second</td>\n",
       "      <td>15.2 kmpl</td>\n",
       "      <td>1968 CC</td>\n",
       "      <td>140.8 bhp</td>\n",
       "      <td>5.0</td>\n",
       "      <td>NaN</td>\n",
       "      <td>17.74</td>\n",
       "    </tr>\n",
       "  </tbody>\n",
       "</table>\n",
       "</div>"
      ],
      "text/plain": [
       "   Unnamed: 0                              Name    Location  Year  \\\n",
       "0           0            Maruti Wagon R LXI CNG      Mumbai  2010   \n",
       "1           1  Hyundai Creta 1.6 CRDi SX Option        Pune  2015   \n",
       "2           2                      Honda Jazz V     Chennai  2011   \n",
       "3           3                 Maruti Ertiga VDI     Chennai  2012   \n",
       "4           4   Audi A4 New 2.0 TDI Multitronic  Coimbatore  2013   \n",
       "\n",
       "   Kilometers_Driven Fuel_Type Transmission Owner_Type     Mileage   Engine  \\\n",
       "0              72000       CNG       Manual      First  26.6 km/kg   998 CC   \n",
       "1              41000    Diesel       Manual      First  19.67 kmpl  1582 CC   \n",
       "2              46000    Petrol       Manual      First   18.2 kmpl  1199 CC   \n",
       "3              87000    Diesel       Manual      First  20.77 kmpl  1248 CC   \n",
       "4              40670    Diesel    Automatic     Second   15.2 kmpl  1968 CC   \n",
       "\n",
       "       Power  Seats  New_Price  Price  \n",
       "0  58.16 bhp    5.0        NaN   1.75  \n",
       "1  126.2 bhp    5.0        NaN  12.50  \n",
       "2   88.7 bhp    5.0  8.61 Lakh   4.50  \n",
       "3  88.76 bhp    7.0        NaN   6.00  \n",
       "4  140.8 bhp    5.0        NaN  17.74  "
      ]
     },
     "execution_count": 3,
     "metadata": {},
     "output_type": "execute_result"
    }
   ],
   "source": [
    "data.head()"
   ]
  },
  {
   "cell_type": "code",
   "execution_count": 4,
   "id": "20da8ece",
   "metadata": {},
   "outputs": [
    {
     "data": {
      "text/plain": [
       "(6019, 14)"
      ]
     },
     "execution_count": 4,
     "metadata": {},
     "output_type": "execute_result"
    }
   ],
   "source": [
    "data.shape"
   ]
  },
  {
   "cell_type": "code",
   "execution_count": 5,
   "id": "346131c0",
   "metadata": {},
   "outputs": [
    {
     "name": "stdout",
     "output_type": "stream",
     "text": [
      "<class 'pandas.core.frame.DataFrame'>\n",
      "RangeIndex: 6019 entries, 0 to 6018\n",
      "Data columns (total 14 columns):\n",
      " #   Column             Non-Null Count  Dtype  \n",
      "---  ------             --------------  -----  \n",
      " 0   Unnamed: 0         6019 non-null   int64  \n",
      " 1   Name               6019 non-null   object \n",
      " 2   Location           6019 non-null   object \n",
      " 3   Year               6019 non-null   int64  \n",
      " 4   Kilometers_Driven  6019 non-null   int64  \n",
      " 5   Fuel_Type          6019 non-null   object \n",
      " 6   Transmission       6019 non-null   object \n",
      " 7   Owner_Type         6019 non-null   object \n",
      " 8   Mileage            6017 non-null   object \n",
      " 9   Engine             5983 non-null   object \n",
      " 10  Power              5983 non-null   object \n",
      " 11  Seats              5977 non-null   float64\n",
      " 12  New_Price          824 non-null    object \n",
      " 13  Price              6019 non-null   float64\n",
      "dtypes: float64(2), int64(3), object(9)\n",
      "memory usage: 658.5+ KB\n"
     ]
    }
   ],
   "source": [
    "data.info()"
   ]
  },
  {
   "cell_type": "code",
   "execution_count": 6,
   "id": "d52271e3",
   "metadata": {},
   "outputs": [
    {
     "data": {
      "text/html": [
       "<div>\n",
       "<style scoped>\n",
       "    .dataframe tbody tr th:only-of-type {\n",
       "        vertical-align: middle;\n",
       "    }\n",
       "\n",
       "    .dataframe tbody tr th {\n",
       "        vertical-align: top;\n",
       "    }\n",
       "\n",
       "    .dataframe thead th {\n",
       "        text-align: right;\n",
       "    }\n",
       "</style>\n",
       "<table border=\"1\" class=\"dataframe\">\n",
       "  <thead>\n",
       "    <tr style=\"text-align: right;\">\n",
       "      <th></th>\n",
       "      <th>Unnamed: 0</th>\n",
       "      <th>Year</th>\n",
       "      <th>Kilometers_Driven</th>\n",
       "      <th>Seats</th>\n",
       "      <th>Price</th>\n",
       "    </tr>\n",
       "  </thead>\n",
       "  <tbody>\n",
       "    <tr>\n",
       "      <th>count</th>\n",
       "      <td>6019.000000</td>\n",
       "      <td>6019.000000</td>\n",
       "      <td>6.019000e+03</td>\n",
       "      <td>5977.000000</td>\n",
       "      <td>6019.000000</td>\n",
       "    </tr>\n",
       "    <tr>\n",
       "      <th>mean</th>\n",
       "      <td>3009.000000</td>\n",
       "      <td>2013.358199</td>\n",
       "      <td>5.873838e+04</td>\n",
       "      <td>5.278735</td>\n",
       "      <td>9.479468</td>\n",
       "    </tr>\n",
       "    <tr>\n",
       "      <th>std</th>\n",
       "      <td>1737.679967</td>\n",
       "      <td>3.269742</td>\n",
       "      <td>9.126884e+04</td>\n",
       "      <td>0.808840</td>\n",
       "      <td>11.187917</td>\n",
       "    </tr>\n",
       "    <tr>\n",
       "      <th>min</th>\n",
       "      <td>0.000000</td>\n",
       "      <td>1998.000000</td>\n",
       "      <td>1.710000e+02</td>\n",
       "      <td>0.000000</td>\n",
       "      <td>0.440000</td>\n",
       "    </tr>\n",
       "    <tr>\n",
       "      <th>25%</th>\n",
       "      <td>1504.500000</td>\n",
       "      <td>2011.000000</td>\n",
       "      <td>3.400000e+04</td>\n",
       "      <td>5.000000</td>\n",
       "      <td>3.500000</td>\n",
       "    </tr>\n",
       "    <tr>\n",
       "      <th>50%</th>\n",
       "      <td>3009.000000</td>\n",
       "      <td>2014.000000</td>\n",
       "      <td>5.300000e+04</td>\n",
       "      <td>5.000000</td>\n",
       "      <td>5.640000</td>\n",
       "    </tr>\n",
       "    <tr>\n",
       "      <th>75%</th>\n",
       "      <td>4513.500000</td>\n",
       "      <td>2016.000000</td>\n",
       "      <td>7.300000e+04</td>\n",
       "      <td>5.000000</td>\n",
       "      <td>9.950000</td>\n",
       "    </tr>\n",
       "    <tr>\n",
       "      <th>max</th>\n",
       "      <td>6018.000000</td>\n",
       "      <td>2019.000000</td>\n",
       "      <td>6.500000e+06</td>\n",
       "      <td>10.000000</td>\n",
       "      <td>160.000000</td>\n",
       "    </tr>\n",
       "  </tbody>\n",
       "</table>\n",
       "</div>"
      ],
      "text/plain": [
       "        Unnamed: 0         Year  Kilometers_Driven        Seats        Price\n",
       "count  6019.000000  6019.000000       6.019000e+03  5977.000000  6019.000000\n",
       "mean   3009.000000  2013.358199       5.873838e+04     5.278735     9.479468\n",
       "std    1737.679967     3.269742       9.126884e+04     0.808840    11.187917\n",
       "min       0.000000  1998.000000       1.710000e+02     0.000000     0.440000\n",
       "25%    1504.500000  2011.000000       3.400000e+04     5.000000     3.500000\n",
       "50%    3009.000000  2014.000000       5.300000e+04     5.000000     5.640000\n",
       "75%    4513.500000  2016.000000       7.300000e+04     5.000000     9.950000\n",
       "max    6018.000000  2019.000000       6.500000e+06    10.000000   160.000000"
      ]
     },
     "execution_count": 6,
     "metadata": {},
     "output_type": "execute_result"
    }
   ],
   "source": [
    "data.describe()"
   ]
  },
  {
   "cell_type": "code",
   "execution_count": 7,
   "id": "45179d5d",
   "metadata": {},
   "outputs": [
    {
     "data": {
      "text/plain": [
       "False"
      ]
     },
     "execution_count": 7,
     "metadata": {},
     "output_type": "execute_result"
    }
   ],
   "source": [
    "data.duplicated().any()"
   ]
  },
  {
   "cell_type": "code",
   "execution_count": 8,
   "id": "3358d252",
   "metadata": {},
   "outputs": [],
   "source": [
    "\n",
    "data_numeric = data.select_dtypes(include=[np.number])\n",
    "data_numeric = data_numeric.fillna(data_numeric.mean())\n",
    "\n",
    "\n",
    "data_categorical = data.select_dtypes(include=[np.object_])\n",
    "data_categorical = data_categorical.fillna(data_categorical.mode().iloc[0])\n",
    "\n",
    "data = pd.concat([data_numeric, data_categorical], axis=1)"
   ]
  },
  {
   "cell_type": "code",
   "execution_count": 9,
   "id": "f8fd6d6f",
   "metadata": {},
   "outputs": [],
   "source": [
    "from sklearn import preprocessing\n",
    "label_encoder = preprocessing.LabelEncoder()\n",
    "data['Name']= label_encoder.fit_transform(data['Name'])\n",
    "data['Location']= label_encoder.fit_transform(data['Location'])\n",
    "data['Fuel_Type']= label_encoder.fit_transform(data['Fuel_Type'])\n",
    "data['Transmission']= label_encoder.fit_transform(data['Transmission'])\n",
    "data['Owner_Type']= label_encoder.fit_transform(data['Owner_Type'])\n",
    "data['Power']= label_encoder.fit_transform(data['Power'])\n",
    "data['Engine']= label_encoder.fit_transform(data['Engine'])\n",
    "data['Mileage']= label_encoder.fit_transform(data['Mileage'])\n",
    "data['New_Price']= label_encoder.fit_transform(data['New_Price'])"
   ]
  },
  {
   "cell_type": "code",
   "execution_count": 10,
   "id": "0a3cbd7f",
   "metadata": {},
   "outputs": [],
   "source": [
    "x=data.drop(columns=['Price','Unnamed: 0'],axis=1)"
   ]
  },
  {
   "cell_type": "code",
   "execution_count": 11,
   "id": "09924787",
   "metadata": {},
   "outputs": [],
   "source": [
    "y=data['Price']"
   ]
  },
  {
   "cell_type": "code",
   "execution_count": 12,
   "id": "8a85285a",
   "metadata": {},
   "outputs": [],
   "source": [
    "from sklearn.model_selection import train_test_split\n",
    "\n",
    "x_train, x_test, y_train, y_test = train_test_split(x, y, test_size = 0.2)"
   ]
  },
  {
   "cell_type": "code",
   "execution_count": 13,
   "id": "330a5511",
   "metadata": {},
   "outputs": [
    {
     "data": {
      "text/plain": [
       "(4815, 12)"
      ]
     },
     "execution_count": 13,
     "metadata": {},
     "output_type": "execute_result"
    }
   ],
   "source": [
    "x_train.shape"
   ]
  },
  {
   "cell_type": "code",
   "execution_count": 14,
   "id": "aa60f4bc",
   "metadata": {},
   "outputs": [
    {
     "data": {
      "text/plain": [
       "(1204, 12)"
      ]
     },
     "execution_count": 14,
     "metadata": {},
     "output_type": "execute_result"
    }
   ],
   "source": [
    "x_test.shape"
   ]
  },
  {
   "cell_type": "code",
   "execution_count": 15,
   "id": "fcdbe628",
   "metadata": {},
   "outputs": [],
   "source": [
    "scaler = StandardScaler()\n",
    "x_train = scaler.fit_transform(x_train)\n",
    "x_test = scaler.transform(x_test)"
   ]
  },
  {
   "cell_type": "code",
   "execution_count": 16,
   "id": "ed453748",
   "metadata": {},
   "outputs": [],
   "source": [
    "model = Sequential()\n",
    "model.add(Dense(20, activation='relu', input_shape=(12,)))\n",
    "model.add(Dense(14, activation='relu'))\n",
    "model.add(Dense(1, activation='relu'))"
   ]
  },
  {
   "cell_type": "code",
   "execution_count": 17,
   "id": "9f8f7f0c",
   "metadata": {},
   "outputs": [],
   "source": [
    "model.compile(optimizer='adam',loss = 'mean_absolute_error',metrics = ['MAE'])"
   ]
  },
  {
   "cell_type": "code",
   "execution_count": 18,
   "id": "fb0e3111",
   "metadata": {},
   "outputs": [],
   "source": [
    "early_stopping = EarlyStopping(monitor='MAE', patience=3)"
   ]
  },
  {
   "cell_type": "code",
   "execution_count": 19,
   "id": "30d70335",
   "metadata": {},
   "outputs": [
    {
     "name": "stdout",
     "output_type": "stream",
     "text": [
      "Epoch 1/75\n",
      "121/121 [==============================] - 2s 6ms/step - loss: 8.4655 - MAE: 8.4655 - val_loss: 7.1764 - val_MAE: 7.1764\n",
      "Epoch 2/75\n",
      "121/121 [==============================] - 0s 2ms/step - loss: 5.2818 - MAE: 5.2818 - val_loss: 4.5717 - val_MAE: 4.5717\n",
      "Epoch 3/75\n",
      "121/121 [==============================] - 0s 4ms/step - loss: 3.9777 - MAE: 3.9777 - val_loss: 3.9199 - val_MAE: 3.9199\n",
      "Epoch 4/75\n",
      "121/121 [==============================] - 0s 4ms/step - loss: 3.5051 - MAE: 3.5051 - val_loss: 3.5954 - val_MAE: 3.5954\n",
      "Epoch 5/75\n",
      "121/121 [==============================] - 0s 2ms/step - loss: 3.2913 - MAE: 3.2913 - val_loss: 3.4601 - val_MAE: 3.4601\n",
      "Epoch 6/75\n",
      "121/121 [==============================] - 0s 2ms/step - loss: 3.1702 - MAE: 3.1702 - val_loss: 3.3412 - val_MAE: 3.3412\n",
      "Epoch 7/75\n",
      "121/121 [==============================] - 0s 3ms/step - loss: 3.0801 - MAE: 3.0801 - val_loss: 3.2565 - val_MAE: 3.2565\n",
      "Epoch 8/75\n",
      "121/121 [==============================] - 0s 3ms/step - loss: 3.0004 - MAE: 3.0004 - val_loss: 3.1793 - val_MAE: 3.1793\n",
      "Epoch 9/75\n",
      "121/121 [==============================] - 0s 4ms/step - loss: 2.9255 - MAE: 2.9255 - val_loss: 3.1299 - val_MAE: 3.1299\n",
      "Epoch 10/75\n",
      "121/121 [==============================] - 0s 3ms/step - loss: 2.8775 - MAE: 2.8775 - val_loss: 3.0663 - val_MAE: 3.0663\n",
      "Epoch 11/75\n",
      "121/121 [==============================] - 0s 3ms/step - loss: 2.8033 - MAE: 2.8033 - val_loss: 3.0093 - val_MAE: 3.0093\n",
      "Epoch 12/75\n",
      "121/121 [==============================] - 0s 4ms/step - loss: 2.7567 - MAE: 2.7567 - val_loss: 2.9491 - val_MAE: 2.9491\n",
      "Epoch 13/75\n",
      "121/121 [==============================] - 0s 4ms/step - loss: 2.6910 - MAE: 2.6910 - val_loss: 2.8974 - val_MAE: 2.8974\n",
      "Epoch 14/75\n",
      "121/121 [==============================] - 0s 4ms/step - loss: 2.6443 - MAE: 2.6443 - val_loss: 2.8650 - val_MAE: 2.8650\n",
      "Epoch 15/75\n",
      "121/121 [==============================] - 0s 4ms/step - loss: 2.6028 - MAE: 2.6028 - val_loss: 2.8186 - val_MAE: 2.8186\n",
      "Epoch 16/75\n",
      "121/121 [==============================] - 0s 4ms/step - loss: 2.5538 - MAE: 2.5538 - val_loss: 2.7774 - val_MAE: 2.7774\n",
      "Epoch 17/75\n",
      "121/121 [==============================] - 0s 4ms/step - loss: 2.5153 - MAE: 2.5153 - val_loss: 2.7471 - val_MAE: 2.7471\n",
      "Epoch 18/75\n",
      "121/121 [==============================] - 0s 4ms/step - loss: 2.4762 - MAE: 2.4762 - val_loss: 2.6979 - val_MAE: 2.6979\n",
      "Epoch 19/75\n",
      "121/121 [==============================] - 0s 3ms/step - loss: 2.4456 - MAE: 2.4456 - val_loss: 2.6801 - val_MAE: 2.6801\n",
      "Epoch 20/75\n",
      "121/121 [==============================] - 0s 2ms/step - loss: 2.4083 - MAE: 2.4083 - val_loss: 2.6335 - val_MAE: 2.6335\n",
      "Epoch 21/75\n",
      "121/121 [==============================] - 0s 2ms/step - loss: 2.3789 - MAE: 2.3789 - val_loss: 2.6038 - val_MAE: 2.6038\n",
      "Epoch 22/75\n",
      "121/121 [==============================] - 0s 4ms/step - loss: 2.3484 - MAE: 2.3484 - val_loss: 2.5864 - val_MAE: 2.5864\n",
      "Epoch 23/75\n",
      "121/121 [==============================] - 0s 3ms/step - loss: 2.3263 - MAE: 2.3263 - val_loss: 2.5629 - val_MAE: 2.5629\n",
      "Epoch 24/75\n",
      "121/121 [==============================] - 0s 2ms/step - loss: 2.2972 - MAE: 2.2972 - val_loss: 2.5483 - val_MAE: 2.5483\n",
      "Epoch 25/75\n",
      "121/121 [==============================] - 0s 4ms/step - loss: 2.2740 - MAE: 2.2740 - val_loss: 2.5377 - val_MAE: 2.5377\n",
      "Epoch 26/75\n",
      "121/121 [==============================] - 0s 3ms/step - loss: 2.2569 - MAE: 2.2569 - val_loss: 2.4995 - val_MAE: 2.4995\n",
      "Epoch 27/75\n",
      "121/121 [==============================] - 0s 4ms/step - loss: 2.2328 - MAE: 2.2328 - val_loss: 2.5079 - val_MAE: 2.5079\n",
      "Epoch 28/75\n",
      "121/121 [==============================] - 0s 2ms/step - loss: 2.2139 - MAE: 2.2139 - val_loss: 2.4875 - val_MAE: 2.4875\n",
      "Epoch 29/75\n",
      "121/121 [==============================] - 0s 2ms/step - loss: 2.1985 - MAE: 2.1985 - val_loss: 2.5048 - val_MAE: 2.5048\n",
      "Epoch 30/75\n",
      "121/121 [==============================] - 0s 2ms/step - loss: 2.1825 - MAE: 2.1825 - val_loss: 2.4643 - val_MAE: 2.4643\n",
      "Epoch 31/75\n",
      "121/121 [==============================] - 0s 2ms/step - loss: 2.1708 - MAE: 2.1708 - val_loss: 2.4501 - val_MAE: 2.4501\n",
      "Epoch 32/75\n",
      "121/121 [==============================] - 0s 3ms/step - loss: 2.1531 - MAE: 2.1531 - val_loss: 2.4543 - val_MAE: 2.4543\n",
      "Epoch 33/75\n",
      "121/121 [==============================] - 0s 4ms/step - loss: 2.1498 - MAE: 2.1498 - val_loss: 2.4402 - val_MAE: 2.4402\n",
      "Epoch 34/75\n",
      "121/121 [==============================] - 0s 3ms/step - loss: 2.1397 - MAE: 2.1397 - val_loss: 2.4285 - val_MAE: 2.4285\n",
      "Epoch 35/75\n",
      "121/121 [==============================] - 0s 3ms/step - loss: 2.1292 - MAE: 2.1292 - val_loss: 2.4205 - val_MAE: 2.4205\n",
      "Epoch 36/75\n",
      "121/121 [==============================] - 0s 2ms/step - loss: 2.1163 - MAE: 2.1163 - val_loss: 2.4236 - val_MAE: 2.4236\n",
      "Epoch 37/75\n",
      "121/121 [==============================] - 0s 3ms/step - loss: 2.1076 - MAE: 2.1076 - val_loss: 2.4025 - val_MAE: 2.4025\n",
      "Epoch 38/75\n",
      "121/121 [==============================] - 0s 3ms/step - loss: 2.0953 - MAE: 2.0953 - val_loss: 2.3944 - val_MAE: 2.3944\n",
      "Epoch 39/75\n",
      "121/121 [==============================] - 0s 4ms/step - loss: 2.0837 - MAE: 2.0837 - val_loss: 2.3855 - val_MAE: 2.3855\n",
      "Epoch 40/75\n",
      "121/121 [==============================] - 0s 3ms/step - loss: 2.0736 - MAE: 2.0736 - val_loss: 2.3834 - val_MAE: 2.3834\n",
      "Epoch 41/75\n",
      "121/121 [==============================] - 0s 2ms/step - loss: 2.0731 - MAE: 2.0731 - val_loss: 2.3828 - val_MAE: 2.3828\n",
      "Epoch 42/75\n",
      "121/121 [==============================] - 0s 3ms/step - loss: 2.0598 - MAE: 2.0598 - val_loss: 2.3618 - val_MAE: 2.3618\n",
      "Epoch 43/75\n",
      "121/121 [==============================] - 0s 2ms/step - loss: 2.0596 - MAE: 2.0596 - val_loss: 2.3677 - val_MAE: 2.3677\n",
      "Epoch 44/75\n",
      "121/121 [==============================] - 0s 3ms/step - loss: 2.0436 - MAE: 2.0436 - val_loss: 2.3579 - val_MAE: 2.3579\n",
      "Epoch 45/75\n",
      "121/121 [==============================] - 0s 3ms/step - loss: 2.0380 - MAE: 2.0380 - val_loss: 2.3678 - val_MAE: 2.3678\n",
      "Epoch 46/75\n",
      "121/121 [==============================] - 0s 4ms/step - loss: 2.0271 - MAE: 2.0271 - val_loss: 2.3438 - val_MAE: 2.3438\n",
      "Epoch 47/75\n",
      "121/121 [==============================] - 0s 2ms/step - loss: 2.0236 - MAE: 2.0236 - val_loss: 2.3409 - val_MAE: 2.3409\n",
      "Epoch 48/75\n",
      "121/121 [==============================] - 0s 2ms/step - loss: 2.0221 - MAE: 2.0221 - val_loss: 2.3430 - val_MAE: 2.3430\n",
      "Epoch 49/75\n",
      "121/121 [==============================] - 0s 4ms/step - loss: 2.0157 - MAE: 2.0157 - val_loss: 2.3361 - val_MAE: 2.3361\n",
      "Epoch 50/75\n",
      "121/121 [==============================] - 0s 4ms/step - loss: 2.0017 - MAE: 2.0017 - val_loss: 2.3680 - val_MAE: 2.3680\n",
      "Epoch 51/75\n",
      "121/121 [==============================] - 0s 2ms/step - loss: 2.0031 - MAE: 2.0031 - val_loss: 2.3313 - val_MAE: 2.3313\n",
      "Epoch 52/75\n",
      "121/121 [==============================] - 0s 2ms/step - loss: 1.9945 - MAE: 1.9945 - val_loss: 2.3343 - val_MAE: 2.3343\n",
      "Epoch 53/75\n",
      "121/121 [==============================] - 0s 2ms/step - loss: 1.9938 - MAE: 1.9938 - val_loss: 2.3287 - val_MAE: 2.3287\n",
      "Epoch 54/75\n",
      "121/121 [==============================] - 0s 2ms/step - loss: 1.9844 - MAE: 1.9844 - val_loss: 2.3496 - val_MAE: 2.3496\n",
      "Epoch 55/75\n",
      "121/121 [==============================] - 0s 3ms/step - loss: 1.9793 - MAE: 1.9793 - val_loss: 2.3197 - val_MAE: 2.3197\n",
      "Epoch 56/75\n",
      "121/121 [==============================] - 0s 2ms/step - loss: 1.9717 - MAE: 1.9717 - val_loss: 2.3230 - val_MAE: 2.3230\n",
      "Epoch 57/75\n",
      "121/121 [==============================] - 0s 2ms/step - loss: 1.9690 - MAE: 1.9690 - val_loss: 2.3407 - val_MAE: 2.3407\n",
      "Epoch 58/75\n",
      "121/121 [==============================] - 0s 3ms/step - loss: 1.9650 - MAE: 1.9650 - val_loss: 2.3241 - val_MAE: 2.3241\n",
      "Epoch 59/75\n",
      "121/121 [==============================] - 0s 3ms/step - loss: 1.9610 - MAE: 1.9610 - val_loss: 2.3212 - val_MAE: 2.3212\n",
      "Epoch 60/75\n",
      "121/121 [==============================] - 0s 3ms/step - loss: 1.9574 - MAE: 1.9574 - val_loss: 2.3213 - val_MAE: 2.3213\n",
      "Epoch 61/75\n",
      "121/121 [==============================] - 0s 3ms/step - loss: 1.9458 - MAE: 1.9458 - val_loss: 2.3549 - val_MAE: 2.3549\n",
      "Epoch 62/75\n"
     ]
    },
    {
     "name": "stdout",
     "output_type": "stream",
     "text": [
      "121/121 [==============================] - 0s 4ms/step - loss: 1.9503 - MAE: 1.9503 - val_loss: 2.3396 - val_MAE: 2.3396\n",
      "Epoch 63/75\n",
      "121/121 [==============================] - 0s 4ms/step - loss: 1.9490 - MAE: 1.9490 - val_loss: 2.3113 - val_MAE: 2.3113\n",
      "Epoch 64/75\n",
      "121/121 [==============================] - 0s 3ms/step - loss: 1.9411 - MAE: 1.9411 - val_loss: 2.3256 - val_MAE: 2.3256\n",
      "Epoch 65/75\n",
      "121/121 [==============================] - 0s 4ms/step - loss: 1.9315 - MAE: 1.9315 - val_loss: 2.3187 - val_MAE: 2.3187\n",
      "Epoch 66/75\n",
      "121/121 [==============================] - 0s 4ms/step - loss: 1.9248 - MAE: 1.9248 - val_loss: 2.3139 - val_MAE: 2.3139\n",
      "Epoch 67/75\n",
      "121/121 [==============================] - 0s 2ms/step - loss: 1.9246 - MAE: 1.9246 - val_loss: 2.3053 - val_MAE: 2.3053\n",
      "Epoch 68/75\n",
      "121/121 [==============================] - 0s 3ms/step - loss: 1.9223 - MAE: 1.9223 - val_loss: 2.3232 - val_MAE: 2.3232\n",
      "Epoch 69/75\n",
      "121/121 [==============================] - 0s 4ms/step - loss: 1.9235 - MAE: 1.9235 - val_loss: 2.3236 - val_MAE: 2.3236\n",
      "Epoch 70/75\n",
      "121/121 [==============================] - 0s 2ms/step - loss: 1.9182 - MAE: 1.9182 - val_loss: 2.3194 - val_MAE: 2.3194\n",
      "Epoch 71/75\n",
      "121/121 [==============================] - 0s 4ms/step - loss: 1.9123 - MAE: 1.9123 - val_loss: 2.3187 - val_MAE: 2.3187\n",
      "Epoch 72/75\n",
      "121/121 [==============================] - 0s 2ms/step - loss: 1.9126 - MAE: 1.9126 - val_loss: 2.3016 - val_MAE: 2.3016\n",
      "Epoch 73/75\n",
      "121/121 [==============================] - 0s 2ms/step - loss: 1.9110 - MAE: 1.9110 - val_loss: 2.3222 - val_MAE: 2.3222\n",
      "Epoch 74/75\n",
      "121/121 [==============================] - 0s 3ms/step - loss: 1.9038 - MAE: 1.9038 - val_loss: 2.3193 - val_MAE: 2.3193\n",
      "Epoch 75/75\n",
      "121/121 [==============================] - 0s 4ms/step - loss: 1.8963 - MAE: 1.8963 - val_loss: 2.3042 - val_MAE: 2.3042\n"
     ]
    },
    {
     "data": {
      "text/plain": [
       "<keras.callbacks.History at 0x175fe997220>"
      ]
     },
     "execution_count": 19,
     "metadata": {},
     "output_type": "execute_result"
    }
   ],
   "source": [
    "model.fit(x_train, y_train,epochs=75, validation_split=0.2, callbacks=[early_stopping])"
   ]
  },
  {
   "cell_type": "code",
   "execution_count": 20,
   "id": "088228dc",
   "metadata": {},
   "outputs": [
    {
     "name": "stdout",
     "output_type": "stream",
     "text": [
      "38/38 [==============================] - 0s 2ms/step - loss: 2.0383 - MAE: 2.0383\n",
      "Test Loss: 2.0383126735687256, Test MAE: 2.0383126735687256\n"
     ]
    }
   ],
   "source": [
    "test_loss, test_mae = model.evaluate(x_test, y_test)\n",
    "print(f\"Test Loss: {test_loss}, Test MAE: {test_mae}\")"
   ]
  },
  {
   "cell_type": "code",
   "execution_count": 21,
   "id": "067a66f4",
   "metadata": {},
   "outputs": [
    {
     "name": "stdout",
     "output_type": "stream",
     "text": [
      "38/38 [==============================] - 0s 2ms/step\n"
     ]
    }
   ],
   "source": [
    "y_pred = model.predict(x_test)\n",
    "y_pred = np.argmax(y_pred, axis=1)"
   ]
  }
 ],
 "metadata": {
  "kernelspec": {
   "display_name": "Python 3 (ipykernel)",
   "language": "python",
   "name": "python3"
  },
  "language_info": {
   "codemirror_mode": {
    "name": "ipython",
    "version": 3
   },
   "file_extension": ".py",
   "mimetype": "text/x-python",
   "name": "python",
   "nbconvert_exporter": "python",
   "pygments_lexer": "ipython3",
   "version": "3.9.12"
  }
 },
 "nbformat": 4,
 "nbformat_minor": 5
}
