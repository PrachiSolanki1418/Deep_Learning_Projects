{
  "nbformat": 4,
  "nbformat_minor": 0,
  "metadata": {
    "colab": {
      "provenance": [],
      "authorship_tag": "ABX9TyOrgry8cozxV0zQczQMaHb5",
      "include_colab_link": true
    },
    "kernelspec": {
      "name": "python3",
      "display_name": "Python 3"
    },
    "language_info": {
      "name": "python"
    }
  },
  "cells": [
    {
      "cell_type": "markdown",
      "metadata": {
        "id": "view-in-github",
        "colab_type": "text"
      },
      "source": [
        "<a href=\"https://colab.research.google.com/github/PrachiSolanki1418/Deep_Learning_Projects/blob/main/Handdigit_Classification_Pytorch(Solanki_Prachi_DS_sem_7).ipynb\" target=\"_parent\"><img src=\"https://colab.research.google.com/assets/colab-badge.svg\" alt=\"Open In Colab\"/></a>"
      ]
    },
    {
      "cell_type": "markdown",
      "source": [
        "**Name : Solanki Prachi Piyushbhai**\n",
        "\n",
        "**Data Science (Sem-7)**\n",
        "\n"
      ],
      "metadata": {
        "id": "AXVh9oenE5-9"
      }
    },
    {
      "cell_type": "code",
      "execution_count": 1,
      "metadata": {
        "id": "5SeA5QwyE15R"
      },
      "outputs": [],
      "source": [
        "import torch\n",
        "import torch.nn as nn\n",
        "import torch.optim as optim\n",
        "import torchvision\n",
        "import torchvision.transforms as transforms\n",
        "import numpy as np\n",
        "import matplotlib.pyplot as plt\n",
        "import seaborn as sns\n",
        "from sklearn.metrics import confusion_matrix"
      ]
    },
    {
      "cell_type": "code",
      "source": [
        "# Define a simple neural network architecture\n",
        "class Net(nn.Module):\n",
        "    def __init__(self):\n",
        "        super(Net, self).__init__()\n",
        "        self.fc1 = nn.Linear(784, 20)\n",
        "        self.fc2 = nn.Linear(20, 15)\n",
        "        self.fc3 = nn.Linear(15, 10)\n",
        "\n",
        "    def forward(self, x):\n",
        "        x = torch.relu(self.fc1(x))\n",
        "        x = torch.relu(self.fc2(x))\n",
        "        x = self.fc3(x)\n",
        "        return x"
      ],
      "metadata": {
        "id": "A6foS081Fa15"
      },
      "execution_count": 2,
      "outputs": []
    },
    {
      "cell_type": "code",
      "source": [
        "# Load the MNIST dataset and apply transformations\n",
        "transform = transforms.Compose([transforms.ToTensor(), transforms.Normalize((0.5,), (0.5,))])\n",
        "trainset = torchvision.datasets.MNIST(root='./data', train=True, download=True, transform=transform)\n",
        "trainloader = torch.utils.data.DataLoader(trainset, batch_size=32, shuffle=True)\n",
        "\n",
        "testset = torchvision.datasets.MNIST(root='./data', train=False, download=True, transform=transform)\n",
        "testloader = torch.utils.data.DataLoader(testset, batch_size=32, shuffle=False)\n"
      ],
      "metadata": {
        "colab": {
          "base_uri": "https://localhost:8080/"
        },
        "id": "amcBDe2_Fbap",
        "outputId": "0cdc75b3-14f0-4cb7-a317-6af0cbd1d0ab"
      },
      "execution_count": 3,
      "outputs": [
        {
          "output_type": "stream",
          "name": "stdout",
          "text": [
            "Downloading http://yann.lecun.com/exdb/mnist/train-images-idx3-ubyte.gz\n",
            "Downloading http://yann.lecun.com/exdb/mnist/train-images-idx3-ubyte.gz to ./data/MNIST/raw/train-images-idx3-ubyte.gz\n"
          ]
        },
        {
          "output_type": "stream",
          "name": "stderr",
          "text": [
            "100%|██████████| 9912422/9912422 [00:00<00:00, 83300363.54it/s]\n"
          ]
        },
        {
          "output_type": "stream",
          "name": "stdout",
          "text": [
            "Extracting ./data/MNIST/raw/train-images-idx3-ubyte.gz to ./data/MNIST/raw\n",
            "\n",
            "Downloading http://yann.lecun.com/exdb/mnist/train-labels-idx1-ubyte.gz\n",
            "Downloading http://yann.lecun.com/exdb/mnist/train-labels-idx1-ubyte.gz to ./data/MNIST/raw/train-labels-idx1-ubyte.gz\n"
          ]
        },
        {
          "output_type": "stream",
          "name": "stderr",
          "text": [
            "100%|██████████| 28881/28881 [00:00<00:00, 33279036.76it/s]\n"
          ]
        },
        {
          "output_type": "stream",
          "name": "stdout",
          "text": [
            "Extracting ./data/MNIST/raw/train-labels-idx1-ubyte.gz to ./data/MNIST/raw\n",
            "\n",
            "Downloading http://yann.lecun.com/exdb/mnist/t10k-images-idx3-ubyte.gz\n",
            "Downloading http://yann.lecun.com/exdb/mnist/t10k-images-idx3-ubyte.gz to ./data/MNIST/raw/t10k-images-idx3-ubyte.gz\n"
          ]
        },
        {
          "output_type": "stream",
          "name": "stderr",
          "text": [
            "100%|██████████| 1648877/1648877 [00:00<00:00, 21613781.65it/s]\n"
          ]
        },
        {
          "output_type": "stream",
          "name": "stdout",
          "text": [
            "Extracting ./data/MNIST/raw/t10k-images-idx3-ubyte.gz to ./data/MNIST/raw\n",
            "\n",
            "Downloading http://yann.lecun.com/exdb/mnist/t10k-labels-idx1-ubyte.gz\n",
            "Downloading http://yann.lecun.com/exdb/mnist/t10k-labels-idx1-ubyte.gz to ./data/MNIST/raw/t10k-labels-idx1-ubyte.gz\n"
          ]
        },
        {
          "output_type": "stream",
          "name": "stderr",
          "text": [
            "100%|██████████| 4542/4542 [00:00<00:00, 7917925.51it/s]\n"
          ]
        },
        {
          "output_type": "stream",
          "name": "stdout",
          "text": [
            "Extracting ./data/MNIST/raw/t10k-labels-idx1-ubyte.gz to ./data/MNIST/raw\n",
            "\n"
          ]
        }
      ]
    },
    {
      "cell_type": "code",
      "source": [
        "# Initialize the network, loss function, and optimizer\n",
        "net = Net()\n",
        "criterion = nn.CrossEntropyLoss()\n",
        "optimizer = optim.Adam(net.parameters(), lr=0.001)\n"
      ],
      "metadata": {
        "id": "r4AaWbhTFcOW"
      },
      "execution_count": 4,
      "outputs": []
    },
    {
      "cell_type": "code",
      "source": [
        "# Training the network\n",
        "for epoch in range(80):\n",
        "    running_loss = 0.0\n",
        "    for i, data in enumerate(trainloader, 0):\n",
        "        inputs, labels = data\n",
        "        inputs = inputs.view(-1, 28*28)\n",
        "\n",
        "        optimizer.zero_grad()\n",
        "        outputs = net(inputs)\n",
        "        loss = criterion(outputs, labels)\n",
        "        loss.backward()\n",
        "        optimizer.step()\n",
        "\n",
        "        running_loss += loss.item()\n",
        "\n",
        "    print(f'Epoch {epoch + 1}, Loss: {running_loss / len(trainloader)}')\n",
        "\n",
        "print('Finished Training')"
      ],
      "metadata": {
        "colab": {
          "base_uri": "https://localhost:8080/"
        },
        "id": "Ir0jxLBlFcy6",
        "outputId": "fffe1f38-2be0-4494-90a9-4970d5ccd33c"
      },
      "execution_count": 5,
      "outputs": [
        {
          "output_type": "stream",
          "name": "stdout",
          "text": [
            "Epoch 1, Loss: 0.4881259528279305\n",
            "Epoch 2, Loss: 0.2866518040796121\n",
            "Epoch 3, Loss: 0.24676582822601\n",
            "Epoch 4, Loss: 0.22656327132980028\n",
            "Epoch 5, Loss: 0.21211778912792603\n",
            "Epoch 6, Loss: 0.1980972583954533\n",
            "Epoch 7, Loss: 0.19208941134611765\n",
            "Epoch 8, Loss: 0.18298843115766844\n",
            "Epoch 9, Loss: 0.17903279991696278\n",
            "Epoch 10, Loss: 0.1725505759899815\n",
            "Epoch 11, Loss: 0.17093382293706139\n",
            "Epoch 12, Loss: 0.16606816767503818\n",
            "Epoch 13, Loss: 0.16289891237094997\n",
            "Epoch 14, Loss: 0.1591870878763497\n",
            "Epoch 15, Loss: 0.15818723204533258\n",
            "Epoch 16, Loss: 0.15505711799214283\n",
            "Epoch 17, Loss: 0.15216231581916412\n",
            "Epoch 18, Loss: 0.15049359897747636\n",
            "Epoch 19, Loss: 0.1494371186643839\n",
            "Epoch 20, Loss: 0.14694396191736062\n",
            "Epoch 21, Loss: 0.14456235745027662\n",
            "Epoch 22, Loss: 0.1437476495658358\n",
            "Epoch 23, Loss: 0.1416714801033338\n",
            "Epoch 24, Loss: 0.1420778324574232\n",
            "Epoch 25, Loss: 0.13873898626094064\n",
            "Epoch 26, Loss: 0.1370571283278366\n",
            "Epoch 27, Loss: 0.1381099413002531\n",
            "Epoch 28, Loss: 0.13496633409832914\n",
            "Epoch 29, Loss: 0.13449856279989084\n",
            "Epoch 30, Loss: 0.13447955705461404\n",
            "Epoch 31, Loss: 0.13231076878396172\n",
            "Epoch 32, Loss: 0.13089159739712874\n",
            "Epoch 33, Loss: 0.1304948140953978\n",
            "Epoch 34, Loss: 0.1286893680954973\n",
            "Epoch 35, Loss: 0.12986871627283594\n",
            "Epoch 36, Loss: 0.1276307191926986\n",
            "Epoch 37, Loss: 0.12699143404352167\n",
            "Epoch 38, Loss: 0.12763725358136\n",
            "Epoch 39, Loss: 0.12479459959256152\n",
            "Epoch 40, Loss: 0.12558091612731417\n",
            "Epoch 41, Loss: 0.12389676001469294\n",
            "Epoch 42, Loss: 0.1230593631601582\n",
            "Epoch 43, Loss: 0.12319835001056394\n",
            "Epoch 44, Loss: 0.12194094299239416\n",
            "Epoch 45, Loss: 0.12075987203630309\n",
            "Epoch 46, Loss: 0.12053819649343689\n",
            "Epoch 47, Loss: 0.12080214268056055\n",
            "Epoch 48, Loss: 0.11897606479016443\n",
            "Epoch 49, Loss: 0.11986151299265524\n",
            "Epoch 50, Loss: 0.11854838174507022\n",
            "Epoch 51, Loss: 0.11822839453406632\n",
            "Epoch 52, Loss: 0.11640808374832073\n",
            "Epoch 53, Loss: 0.11708409848598142\n",
            "Epoch 54, Loss: 0.11627628072040777\n",
            "Epoch 55, Loss: 0.11547629902313153\n",
            "Epoch 56, Loss: 0.11468724751689782\n",
            "Epoch 57, Loss: 0.11535918890324731\n",
            "Epoch 58, Loss: 0.1154005335709701\n",
            "Epoch 59, Loss: 0.11379383077373108\n",
            "Epoch 60, Loss: 0.11338992286069939\n",
            "Epoch 61, Loss: 0.11120851343702524\n",
            "Epoch 62, Loss: 0.110964330402265\n",
            "Epoch 63, Loss: 0.1129067976605768\n",
            "Epoch 64, Loss: 0.1105598384493962\n",
            "Epoch 65, Loss: 0.1114505188514789\n",
            "Epoch 66, Loss: 0.11093761496456961\n",
            "Epoch 67, Loss: 0.11010741568114608\n",
            "Epoch 68, Loss: 0.1103868928498278\n",
            "Epoch 69, Loss: 0.10998777988708268\n",
            "Epoch 70, Loss: 0.10992123402624081\n",
            "Epoch 71, Loss: 0.10773551209581395\n",
            "Epoch 72, Loss: 0.10810378540704647\n",
            "Epoch 73, Loss: 0.10837354495779922\n",
            "Epoch 74, Loss: 0.10720156505126506\n",
            "Epoch 75, Loss: 0.10725395671452086\n",
            "Epoch 76, Loss: 0.10766935281679034\n",
            "Epoch 77, Loss: 0.10513790506621201\n",
            "Epoch 78, Loss: 0.1069773450551865\n",
            "Epoch 79, Loss: 0.10510190703924745\n",
            "Epoch 80, Loss: 0.10532744675905754\n",
            "Finished Training\n"
          ]
        }
      ]
    },
    {
      "cell_type": "code",
      "source": [
        "correct = 0\n",
        "total = 0\n",
        "y_pred = []\n",
        "\n",
        "with torch.no_grad():\n",
        "    for data in testloader:\n",
        "        images, labels = data\n",
        "        images = images.view(-1, 28*28)\n",
        "        outputs = net(images)\n",
        "        predicted = torch.max(outputs.data, 1)[1]  # Extract the tensor indices\n",
        "        y_pred.extend(predicted)\n",
        "        total += labels.size(0)\n",
        "        correct += (predicted == labels).sum().item()\n",
        "\n",
        "print(f'Accuracy of the network on the test images: {100 * correct / total:.2f}%')"
      ],
      "metadata": {
        "colab": {
          "base_uri": "https://localhost:8080/"
        },
        "id": "XMgE3lc8F7lP",
        "outputId": "4ef011c2-dd39-4df7-dd86-aaffa7140b24"
      },
      "execution_count": 6,
      "outputs": [
        {
          "output_type": "stream",
          "name": "stdout",
          "text": [
            "Accuracy of the network on the test images: 95.28%\n"
          ]
        }
      ]
    },
    {
      "cell_type": "code",
      "source": [
        "# Creating and plotting the confusion matrix\n",
        "conf_matrix = confusion_matrix(testset.targets, y_pred)\n",
        "plt.figure(figsize=(10, 8))\n",
        "sns.heatmap(conf_matrix, annot=True, fmt=\"d\", cmap=\"Blues\")\n",
        "plt.xlabel('Predicted labels')\n",
        "plt.ylabel('True labels')\n",
        "plt.title('Confusion Matrix')\n",
        "plt.show()"
      ],
      "metadata": {
        "colab": {
          "base_uri": "https://localhost:8080/",
          "height": 718
        },
        "id": "vWfo9CDgF9AN",
        "outputId": "506229f3-ace5-4aa2-de98-ca50121adda0"
      },
      "execution_count": 7,
      "outputs": [
        {
          "output_type": "display_data",
          "data": {
            "text/plain": [
              "<Figure size 1000x800 with 2 Axes>"
            ],
            "image/png": "[encoded data removed]"
          },
          "metadata": {}
        }
      ]
    }
  ]
}